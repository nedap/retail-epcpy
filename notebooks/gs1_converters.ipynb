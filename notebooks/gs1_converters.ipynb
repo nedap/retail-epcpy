{
 "cells": [
  {
   "cell_type": "code",
   "execution_count": null,
   "metadata": {},
   "outputs": [],
   "source": [
    "%reset -f\n",
    "%load_ext autoreload\n",
    "%autoreload 2\n",
    "\n",
    "# Allow relative imports from parent folders\n",
    "import sys\n",
    "\n",
    "sys.path.insert(0, \"..\")"
   ]
  },
  {
   "cell_type": "code",
   "execution_count": null,
   "metadata": {},
   "outputs": [],
   "source": [
    "from epcpy import ConvertException, get_gs1_key\n",
    "\n",
    "try:\n",
    "    get_gs1_key(\"urn:epc:idpat:sgtin:00000950.*.*\")\n",
    "except ConvertException as e:\n",
    "    print(e)"
   ]
  },
  {
   "cell_type": "code",
   "execution_count": null,
   "metadata": {},
   "outputs": [],
   "source": [
    "# sgtin = SGTIN(\"urn:epc:id:sgtin:50712192365.88..%25:.13%26\")\n",
    "from epcpy.epc_schemes.sgtin import SGTIN, SGTINFilterValue\n",
    "from epcpy.epc_schemes.sgtin import GTIN_TYPE\n",
    "epc_uri = \"urn:epc:id:sgtin:00000950.01093.Serial\"\n",
    "sgtin = SGTIN.from_epc_uri(epc_uri)\n",
    "print(sgtin.gs1_element_string())\n",
    "print(sgtin.gs1_key())\n",
    "print(sgtin.gs1_key(gtin_type=GTIN_TYPE.GTIN14))\n",
    "print(sgtin.tag_uri(binary_coding_scheme=SGTIN.BinaryCodingScheme.SGTIN_198, filter_value=SGTINFilterValue.POS_ITEM))\n",
    "print(sgtin.hex(binary_coding_scheme=SGTIN.BinaryCodingScheme.SGTIN_198, filter_value=SGTINFilterValue.POS_ITEM))\n",
    "binary = sgtin.binary(binary_coding_scheme=SGTIN.BinaryCodingScheme.SGTIN_198, filter_value=SGTINFilterValue.POS_ITEM)\n",
    "print(binary)\n",
    "print(SGTIN.from_binary(binary))\n",
    "print(SGTIN.from_hex(\"36300001DB011169E5E5A70EC000000000000000000000000000\"))\n",
    "# print(binary_to_epc_pure_identity(sgtin.binary()))\n",
    "# print(sgtin.gs1_key())"
   ]
  },
  {
   "cell_type": "code",
   "execution_count": null,
   "metadata": {},
   "outputs": [],
   "source": [
    "from epcpy.epc_schemes.sscc import SSCC, SSCCFilterValue\n",
    "sscc = SSCC('urn:epc:id:sscc:0614141.1234567890')\n",
    "print(sscc.gs1_element_string())\n",
    "print(sscc.tag_uri(SSCCFilterValue.ALL_OTHERS))\n",
    "print(sscc.hex(filter_value=SSCCFilterValue.ALL_OTHERS))\n",
    "print(SSCC.from_binary(sscc.binary(filter_value=SSCCFilterValue.ALL_OTHERS)))"
   ]
  },
  {
   "cell_type": "code",
   "execution_count": null,
   "metadata": {},
   "outputs": [],
   "source": [
    "from epcpy.epc_schemes.sgln import SGLN, SGLNFilterValue\n",
    "sgln = SGLN(\"urn:epc:id:sgln:061414112345....::%25221235%2522F0%2526\")\n",
    "print(sgln.gs1_element_string())\n",
    "print(sgln.tag_uri(binary_coding_scheme=SGLN.BinaryCodingScheme.SGLN_195, filter_value=SGLNFilterValue.RESERVED_2))\n",
    "print(sgln.hex(binary_coding_scheme=SGLN.BinaryCodingScheme.SGLN_195, filter_value=SGLNFilterValue.RESERVED_2))\n",
    "print(SGLN.from_binary(sgln.binary(binary_coding_scheme=SGLN.BinaryCodingScheme.SGLN_195, filter_value=SGLNFilterValue.RESERVED_2)))"
   ]
  },
  {
   "cell_type": "code",
   "execution_count": null,
   "metadata": {},
   "outputs": [],
   "source": [
    "from epcpy.epc_schemes.grai import GRAI, GRAIFilterValue\n",
    "grai = GRAI(\"urn:epc:id:grai:0614141.12345.400%25\")\n",
    "print(grai.gs1_element_string())\n",
    "print(grai.tag_uri(GRAI.BinaryCodingScheme.GRAI_170, GRAIFilterValue.RESERVED_2))\n",
    "print(grai.hex(binary_coding_scheme = GRAI.BinaryCodingScheme.GRAI_170, filter_value=GRAIFilterValue.RESERVED_2))\n",
    "print(GRAI.from_binary(grai.binary(binary_coding_scheme = GRAI.BinaryCodingScheme.GRAI_170, filter_value=GRAIFilterValue.RESERVED_2)))\n"
   ]
  },
  {
   "cell_type": "code",
   "execution_count": null,
   "metadata": {},
   "outputs": [],
   "source": [
    "from epcpy.epc_schemes.giai import GIAI, GIAIFilterValue\n",
    "giai = GIAI(\"urn:epc:id:giai:0614141.32a%2Fb\")\n",
    "# giai = GIAI(\"urn:epc:id:giai:06134141.288230376\")\n",
    "print(giai.gs1_element_string())\n",
    "print(giai.tag_uri(GIAI.BinaryCodingScheme.GIAI_202, GIAIFilterValue.RAIL_VEHICLE))\n",
    "print(giai.hex(binary_coding_scheme=GIAI.BinaryCodingScheme.GIAI_202, filter_value=GIAIFilterValue.RAIL_VEHICLE))\n",
    "print(giai.gs1_key())\n",
    "\n",
    "print(giai.from_binary(giai.binary(binary_coding_scheme=GIAI.BinaryCodingScheme.GIAI_202, filter_value=GIAIFilterValue.RAIL_VEHICLE)).epc_uri)\n"
   ]
  },
  {
   "cell_type": "code",
   "execution_count": null,
   "metadata": {},
   "outputs": [],
   "source": [
    "from epcpy.epc_schemes.gsrn import GSRN, GSRNFilterValue\n",
    "gsrn = GSRN(\"urn:epc:id:gsrn:0614141.1234567890\")\n",
    "print(gsrn.gs1_element_string())\n",
    "print(gsrn.tag_uri(GSRNFilterValue.RESERVED_5))\n",
    "print(gsrn.hex())\n",
    "print(GSRN.from_binary(gsrn.binary(filter_value=GSRNFilterValue.RESERVED_5)))\n",
    "print(gsrn.gs1_key())"
   ]
  },
  {
   "cell_type": "code",
   "execution_count": null,
   "metadata": {},
   "outputs": [],
   "source": [
    "from epcpy.epc_schemes.gsrnp import GSRNP, GSRNPFilterValue\n",
    "gsrnp = GSRNP(\"urn:epc:id:gsrnp:0614141.1234567890\")\n",
    "print(gsrnp.gs1_element_string())\n",
    "print(gsrnp.tag_uri(GSRNPFilterValue.RESERVED_4))\n",
    "print(gsrnp.hex(filter_value=GSRNPFilterValue.RESERVED_4))\n",
    "print(gsrnp.from_binary(gsrnp.binary(filter_value=GSRNPFilterValue.RESERVED_4)))"
   ]
  },
  {
   "cell_type": "code",
   "execution_count": null,
   "metadata": {},
   "outputs": [],
   "source": [
    "from epcpy.epc_schemes.gdti import GDTI, GDTIFilterValue\n",
    "# gdti = GDTI(\"urn:epc:id:gdti:0614141.12345.400\")\n",
    "gdti = GDTI(\"urn:epc:id:gdti:061414112345..40%2F%3C0\")\n",
    "print(gdti.gs1_element_string())\n",
    "# print(gdti.tag_uri(BinaryCodingScheme.GDTI_96, GDTIFilterValue.RESERVED_2))\n",
    "print(gdti.hex(binary_coding_scheme=GDTI.BinaryCodingScheme.GDTI_174, filter_value=GDTIFilterValue.RESERVED_2))\n",
    "print(gdti.tag_uri(binary_coding_scheme=GDTI.BinaryCodingScheme.GDTI_174, filter_value=GDTIFilterValue.RESERVED_2))\n",
    "print(gdti.epc_uri)\n",
    "print(gdti.gs1_key())"
   ]
  },
  {
   "cell_type": "code",
   "execution_count": null,
   "metadata": {},
   "outputs": [],
   "source": [
    "from epcpy.epc_schemes.cpi import CPI, CPIFilterValue\n",
    "cpi = CPI(\"urn:epc:id:cpi:0614141.5PQ7%2FZ%23-43.123456789012\")\n",
    "# cpi = CPI(\"urn:epc:id:cpi:0614141.123456.123456789\")\n",
    "print(cpi.gs1_element_string())\n",
    "print(cpi.tag_uri(CPI.BinaryCodingScheme.CPI_VAR, CPIFilterValue.RESERVED_2))\n",
    "print(cpi.hex(binary_coding_scheme=CPI.BinaryCodingScheme.CPI_VAR, filter_value=CPIFilterValue.RESERVED_2))\n",
    "print(CPI.from_binary(cpi.binary(binary_coding_scheme=CPI.BinaryCodingScheme.CPI_VAR, filter_value=CPIFilterValue.RESERVED_2)))"
   ]
  },
  {
   "cell_type": "code",
   "execution_count": null,
   "metadata": {},
   "outputs": [],
   "source": [
    "from epcpy.epc_schemes.sgcn import SGCN, SGCNFilterValue\n",
    "sgcn = SGCN(\"urn:epc:id:sgcn:0412345.07890.04711\")\n",
    "print(sgcn.gs1_element_string())\n",
    "print(sgcn.gs1_key())\n",
    "print(sgcn.tag_uri(SGCNFilterValue.RESERVED_3))\n",
    "print(sgcn.hex(filter_value=SGCNFilterValue.RESERVED_3, binary_coding_scheme=SGCN.BinaryCodingScheme.SGCN_96))\n",
    "print(SGCN.from_binary(sgcn.binary(filter_value=SGCNFilterValue.RESERVED_3, binary_coding_scheme=SGCN.BinaryCodingScheme.SGCN_96)))"
   ]
  },
  {
   "cell_type": "code",
   "execution_count": null,
   "metadata": {},
   "outputs": [],
   "source": [
    "from epcpy.epc_schemes.ginc import GINC\n",
    "ginc = GINC(\"urn:epc:id:ginc:0614141.xyz47%2F.1:1\")\n",
    "print(ginc.gs1_element_string())\n",
    "print(ginc.gs1_key())\n",
    "# GINC has no tag uri scheme"
   ]
  },
  {
   "cell_type": "code",
   "execution_count": null,
   "metadata": {},
   "outputs": [],
   "source": [
    "from epcpy.epc_schemes.gsin import GSIN\n",
    "gsin = GSIN(\"urn:epc:id:gsin:0614141.123456789\")\n",
    "print(gsin.gs1_element_string())\n",
    "print(gsin.gs1_key())\n",
    "# GSIN has no tag uri scheme"
   ]
  },
  {
   "cell_type": "code",
   "execution_count": null,
   "metadata": {},
   "outputs": [],
   "source": [
    "from epcpy.epc_schemes.itip import ITIP, ITIPFilterValue\n",
    "itip = ITIP(\"urn:epc:id:itip:3012345.012345.04.04.3.:.2a%2Fb\")\n",
    "# itip = ITIP(\"urn:epc:id:itip:0614141.123456.12.12.1235\")\n",
    "print(itip.gs1_element_string())\n",
    "print(itip.tag_uri(ITIP.BinaryCodingScheme.ITIP_212, ITIPFilterValue.RESERVED_2))\n",
    "print(itip.hex(binary_coding_scheme=ITIP.BinaryCodingScheme.ITIP_212, filter_value=ITIPFilterValue.RESERVED_2))\n",
    "print(ITIP.from_binary(itip.binary(binary_coding_scheme=ITIP.BinaryCodingScheme.ITIP_212, filter_value=ITIPFilterValue.RESERVED_2)))"
   ]
  },
  {
   "cell_type": "code",
   "execution_count": null,
   "metadata": {},
   "outputs": [],
   "source": [
    "from epcpy.epc_schemes.upui import UPUI\n",
    "upui = UPUI(\"urn:epc:id:upui:1234567.089456.51qIgY)%3C%26Jp3*j7'SDB\")\n",
    "print(upui.gs1_element_string())\n",
    "# upui has no tag uri scheme"
   ]
  },
  {
   "cell_type": "code",
   "execution_count": null,
   "metadata": {},
   "outputs": [],
   "source": [
    "from epcpy.epc_schemes.pgln import PGLN\n",
    "pgln = PGLN(\"urn:epc:id:pgln:1234567.89012\")\n",
    "print(pgln.gs1_element_string())\n",
    "print(pgln.gs1_key())\n",
    "# pgln has no tag uri scheme"
   ]
  },
  {
   "cell_type": "code",
   "execution_count": null,
   "metadata": {},
   "outputs": [],
   "source": [
    "from epcpy.epc_schemes.gid import GID \n",
    "gid = GID(\"urn:epc:id:gid:268435455.16777215.68719476735\")\n",
    "print(gid.tag_uri())\n",
    "print(gid.hex(binary_coding_scheme=GID.BinaryCodingScheme.GID_96))\n",
    "print(gid.from_binary(gid.binary()))\n",
    "print(binary_to_epc_pure_identity(gid.binary()))\n",
    "# GID has no gs1 element string"
   ]
  },
  {
   "cell_type": "code",
   "execution_count": null,
   "metadata": {},
   "outputs": [],
   "source": [
    "from epcpy.epc_schemes.usdod import USDOD, USDODFilterValue\n",
    "usdod = USDOD(\"urn:epc:id:usdod:2S394.12345678901\")\n",
    "print(usdod.tag_uri(USDODFilterValue.PALLET))\n",
    "print(usdod.hex(filter_value=USDODFilterValue.PALLET))\n",
    "print(USDOD.from_binary(usdod.binary(filter_value=USDODFilterValue.PALLET)))\n",
    "# USDOD has no gs1 element string"
   ]
  },
  {
   "cell_type": "code",
   "execution_count": null,
   "metadata": {},
   "outputs": [],
   "source": [
    "from epcpy.epc_schemes.adi import ADI, ADIFilterValue\n",
    "adi = ADI(\"urn:epc:id:adi:W81X9C.3KL9-012345678901234567890184%2FX1.%232WMA1520123456789012345678901\")\n",
    "print(adi.epc_uri)\n",
    "print(adi.tag_uri(ADI.BinaryCodingScheme.ADI_VAR, ADIFilterValue.GROUND_SUPPORT_EQUIPMENT))\n",
    "print(adi.hex(binary_coding_scheme=ADI.BinaryCodingScheme.ADI_VAR, filter_value=ADIFilterValue.GROUND_SUPPORT_EQUIPMENT))\n",
    "print(ADI.from_binary(adi.binary(binary_coding_scheme=ADI.BinaryCodingScheme.ADI_VAR, filter_value=ADIFilterValue.GROUND_SUPPORT_EQUIPMENT)).epc_uri)"
   ]
  },
  {
   "cell_type": "code",
   "execution_count": null,
   "metadata": {},
   "outputs": [],
   "source": [
    "from epcpy.epc_schemes.bic import BIC\n",
    "bic = BIC(\"urn:epc:id:bic:CSQU3054383\")\n",
    "print(bic._owner_code)\n",
    "print(bic._equipment_category_identifier)\n",
    "print(bic._serial)\n",
    "print(bic._check_digit)"
   ]
  },
  {
   "cell_type": "code",
   "execution_count": null,
   "metadata": {},
   "outputs": [],
   "source": [
    "from epcpy.epc_schemes.imovn import IMOVN\n",
    "imovn = IMOVN(\"urn:epc:id:imovn:9176187\")\n",
    "print(imovn._vessel_number)"
   ]
  }
 ],
 "metadata": {
  "interpreter": {
   "hash": "575b31890af11e1ad6918521868705fdda6c5923aede168cd320f3bea14bd1a8"
  },
  "kernelspec": {
   "display_name": "Python 3 (ipykernel)",
   "language": "python",
   "name": "python3"
  },
  "language_info": {
   "codemirror_mode": {
    "name": "ipython",
    "version": 3
   },
   "file_extension": ".py",
   "mimetype": "text/x-python",
   "name": "python",
   "nbconvert_exporter": "python",
   "pygments_lexer": "ipython3",
   "version": "3.9.5"
  }
 },
 "nbformat": 4,
 "nbformat_minor": 2
}
