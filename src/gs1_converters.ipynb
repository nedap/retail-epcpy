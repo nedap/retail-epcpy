{
 "cells": [
  {
   "cell_type": "code",
   "execution_count": null,
   "metadata": {},
   "outputs": [],
   "source": [
    "%reset -f\n",
    "%load_ext autoreload\n",
    "%autoreload 2\n",
    "\n",
    "# Allow relative imports from parent folders\n",
    "import sys\n",
    "\n",
    "sys.path.insert(0, \"..\")"
   ]
  },
  {
   "cell_type": "code",
   "execution_count": null,
   "metadata": {},
   "outputs": [],
   "source": [
    "from parsers import binary_to_epc_tag_uri, binary_to_epc_pure_identity\n",
    "from common import BinaryCodingSchemes\n",
    "from schemes.sscc import SSCC, SSCCFilterValues\n",
    "from schemes.sgtin import SGTIN, SGTINFilterValues\n",
    "from schemes.sgln import SGLN, SGLNFilterValues\n",
    "from schemes.grai import GRAI, GRAIFilterValues\n",
    "from schemes.giai import GIAI, GIAIFilterValues\n",
    "from schemes.gsrn import GSRN, GSRNFilterValues\n",
    "from schemes.gsrnp import GSRNP, GSRNPFilterValues\n",
    "from schemes.gdti import GDTI, GDTIFilterValues\n",
    "from schemes.cpi import CPI, CPIFilterValues\n",
    "from schemes.sgcn import SGCN, SGCNFilterValues\n",
    "from schemes.ginc import GINC\n",
    "from schemes.gsin import GSIN\n",
    "from schemes.itip import ITIP, ITIPFilterValues\n",
    "from schemes.upui import UPUI\n",
    "from schemes.pgln import PGLN\n",
    "from schemes.gid import GID\n",
    "from schemes.usdod import USDOD, USDODFilterValues\n",
    "from schemes.adi import ADI, ADIFilterValues\n",
    "from schemes.bic import BIC\n",
    "from schemes.imovn import IMOVN"
   ]
  },
  {
   "cell_type": "code",
   "execution_count": null,
   "metadata": {},
   "outputs": [],
   "source": [
    "sscc = SSCC('urn:epc:id:sscc:0614141.1234567890')\n",
    "print(sscc.gs1_element_string())\n",
    "print(sscc.tag_uri(SSCCFilterValues.ALL_OTHERS))\n",
    "print(sscc.hex())\n",
    "print(binary_to_epc_tag_uri(sscc.binary()))\n",
    "print(binary_to_epc_pure_identity(sscc.binary()))"
   ]
  },
  {
   "cell_type": "code",
   "execution_count": null,
   "metadata": {},
   "outputs": [],
   "source": [
    "# sgtin = SGTIN(\"urn:epc:id:sgtin:50712192365.88..%25:.13%26\")\n",
    "sgtin = SGTIN(\"urn:epc:id:sgtin:00000950.01093.Serial\")\n",
    "print(sgtin.gs1_element_string())\n",
    "print(sgtin.gs1_key())\n",
    "print(sgtin.gs1_key(gtin_8=True))\n",
    "print(sgtin.gs1_key(gtin_12=True))\n",
    "print(sgtin.gs1_key(gtin_13=True))\n",
    "print(sgtin.tag_uri(BinaryCodingSchemes.SGTIN_198, SGTINFilterValues.POS_ITEM))\n",
    "print(sgtin.hex())\n",
    "print(binary_to_epc_tag_uri(sgtin.binary()))\n",
    "print(binary_to_epc_pure_identity(sgtin.binary()))\n"
   ]
  },
  {
   "cell_type": "code",
   "execution_count": null,
   "metadata": {},
   "outputs": [],
   "source": [
    "sgln = SGLN(\"urn:epc:id:sgln:061414112345....::%25221235%2522F0%2526\")\n",
    "print(sgln.gs1_element_string())\n",
    "print(sgln.tag_uri(BinaryCodingSchemes.SGLN_195, SGLNFilterValues.RESERVED_2))\n",
    "print(sgln.hex())\n",
    "print(binary_to_epc_tag_uri(sgln.binary()))\n",
    "print(binary_to_epc_pure_identity(sgln.binary()))"
   ]
  },
  {
   "cell_type": "code",
   "execution_count": null,
   "metadata": {},
   "outputs": [],
   "source": [
    "grai = GRAI(\"urn:epc:id:grai:0614141.12345.400%25\")\n",
    "print(grai.gs1_element_string())\n",
    "print(grai.tag_uri(BinaryCodingSchemes.GRAI_170, GRAIFilterValues.RESERVED_2))\n",
    "print(grai.hex())\n",
    "print(binary_to_epc_tag_uri(grai.binary()))\n",
    "print(binary_to_epc_pure_identity(grai.binary()))"
   ]
  },
  {
   "cell_type": "code",
   "execution_count": null,
   "metadata": {},
   "outputs": [],
   "source": [
    "giai = GIAI(\"urn:epc:id:giai:0614141.32a%2Fb\")\n",
    "# giai = GIAI(\"urn:epc:id:giai:06134141.288230376\")\n",
    "print(giai.gs1_element_string())\n",
    "print(giai.tag_uri(BinaryCodingSchemes.GIAI_202, GIAIFilterValues.RAIL_VEHICLE))\n",
    "print(giai.hex())\n",
    "print(binary_to_epc_tag_uri(giai.binary()))\n",
    "print(binary_to_epc_pure_identity(giai.binary()))"
   ]
  },
  {
   "cell_type": "code",
   "execution_count": null,
   "metadata": {},
   "outputs": [],
   "source": [
    "gsrn = GSRN(\"urn:epc:id:gsrn:0614141.1234567890\")\n",
    "print(gsrn.gs1_element_string())\n",
    "print(gsrn.tag_uri(GSRNFilterValues.RESERVED_5))\n",
    "print(gsrn.hex())\n",
    "print(binary_to_epc_tag_uri(gsrn.binary()))\n",
    "print(binary_to_epc_pure_identity(gsrn.binary()))"
   ]
  },
  {
   "cell_type": "code",
   "execution_count": null,
   "metadata": {},
   "outputs": [],
   "source": [
    "gsrnp = GSRNP(\"urn:epc:id:gsrnp:0614141.1234567890\")\n",
    "print(gsrnp.gs1_element_string())\n",
    "print(gsrnp.tag_uri(GSRNPFilterValues.RESERVED_4))\n",
    "print(gsrnp.hex())\n",
    "print(binary_to_epc_tag_uri(gsrnp.binary()))\n",
    "print(binary_to_epc_pure_identity(gsrnp.binary()))"
   ]
  },
  {
   "cell_type": "code",
   "execution_count": null,
   "metadata": {},
   "outputs": [],
   "source": [
    "\n",
    "gdti = GDTI(\"urn:epc:id:gdti:0614141.12345.400\")\n",
    "# gdti = GDTI(\"urn:epc:id:gdti:061414112345..40%2F%3C0\")\n",
    "print(gdti.gs1_element_string())\n",
    "# print(gdti.tag_uri(BinaryCodingSchemes.GDTI_96, GDTIFilterValues.RESERVED_2))\n",
    "print(gdti.hex(BinaryCodingSchemes.GDTI_96, GDTIFilterValues.RESERVED_2))\n",
    "print(binary_to_epc_tag_uri(gdti.binary()))\n",
    "print(binary_to_epc_pure_identity(gdti.binary()))"
   ]
  },
  {
   "cell_type": "code",
   "execution_count": null,
   "metadata": {},
   "outputs": [],
   "source": [
    "cpi = CPI(\"urn:epc:id:cpi:0614141.5PQ7%2FZ%23-43.123456789012\")\n",
    "# cpi = CPI(\"urn:epc:id:cpi:0614141.123456.123456789\")\n",
    "print(cpi.gs1_element_string())\n",
    "# print(cpi.tag_uri(BinaryCodingSchemes.CPI_VAR, CPIFilterValues.RESERVED_2))\n",
    "print(cpi.hex(BinaryCodingSchemes.CPI_VAR, CPIFilterValues.RESERVED_2))\n",
    "print(binary_to_epc_tag_uri(cpi.binary()))\n",
    "print(binary_to_epc_pure_identity(cpi.binary()))"
   ]
  },
  {
   "cell_type": "code",
   "execution_count": null,
   "metadata": {},
   "outputs": [],
   "source": [
    "sgcn = SGCN(\"urn:epc:id:sgcn:0412345.07890.04711\")\n",
    "print(sgcn.gs1_element_string())\n",
    "print(sgcn.tag_uri(SGCNFilterValues.RESERVED_3))\n",
    "print(sgcn.hex(filter_value=SGCNFilterValues.RESERVED_3))\n",
    "print(binary_to_epc_tag_uri(sgcn.binary()))\n",
    "print(binary_to_epc_pure_identity(sgcn.binary()))"
   ]
  },
  {
   "cell_type": "code",
   "execution_count": null,
   "metadata": {},
   "outputs": [],
   "source": [
    "ginc = GINC(\"urn:epc:id:ginc:0614141.xyz47%2F.1:1\")\n",
    "print(ginc.gs1_element_string())\n",
    "# GINC has no tag uri scheme"
   ]
  },
  {
   "cell_type": "code",
   "execution_count": null,
   "metadata": {},
   "outputs": [],
   "source": [
    "gsin = GSIN(\"urn:epc:id:gsin:0614141.123456789\")\n",
    "print(gsin.gs1_element_string())\n",
    "# GSIN has no tag uri scheme"
   ]
  },
  {
   "cell_type": "code",
   "execution_count": null,
   "metadata": {},
   "outputs": [],
   "source": [
    "itip = ITIP(\"urn:epc:id:itip:3012345.012345.04.04.3.:.2a%2Fb\")\n",
    "# itip = ITIP(\"urn:epc:id:itip:0614141.123456.12.12.1235\")\n",
    "print(itip.gs1_element_string())\n",
    "print(itip.tag_uri(BinaryCodingSchemes.ITIP_212, ITIPFilterValues.RESERVED_2))\n",
    "print(itip.hex(BinaryCodingSchemes.ITIP_212, ITIPFilterValues.RESERVED_2))\n",
    "print(binary_to_epc_tag_uri(itip.binary()))\n",
    "print(binary_to_epc_pure_identity(itip.binary()))"
   ]
  },
  {
   "cell_type": "code",
   "execution_count": null,
   "metadata": {},
   "outputs": [],
   "source": [
    "upui = UPUI(\"urn:epc:id:upui:1234567.089456.51qIgY)%3C%26Jp3*j7'SDB\")\n",
    "print(upui.gs1_element_string())\n",
    "# upui has no tag uri scheme"
   ]
  },
  {
   "cell_type": "code",
   "execution_count": null,
   "metadata": {},
   "outputs": [],
   "source": [
    "pgln = PGLN(\"urn:epc:id:pgln:1234567.89012\")\n",
    "print(pgln.gs1_element_string())\n",
    "# pgln has no tag uri scheme"
   ]
  },
  {
   "cell_type": "code",
   "execution_count": null,
   "metadata": {},
   "outputs": [],
   "source": [
    "gid = GID(\"urn:epc:id:gid:268435455.16777215.68719476735\")\n",
    "print(gid.tag_uri())\n",
    "print(gid.hex())\n",
    "print(binary_to_epc_tag_uri(gid.binary()))\n",
    "print(binary_to_epc_pure_identity(gid.binary()))\n",
    "# GID has no gs1 element string"
   ]
  },
  {
   "cell_type": "code",
   "execution_count": null,
   "metadata": {},
   "outputs": [],
   "source": [
    "usdod = USDOD(\"urn:epc:id:usdod:2S394.12345678901\")\n",
    "print(usdod.tag_uri(USDODFilterValues.PALLET))\n",
    "print(usdod.hex())\n",
    "print(binary_to_epc_tag_uri(usdod.binary()))\n",
    "print(binary_to_epc_pure_identity(usdod.binary()))\n",
    "# USDOD has no gs1 element string"
   ]
  },
  {
   "cell_type": "code",
   "execution_count": null,
   "metadata": {},
   "outputs": [],
   "source": [
    "adi = ADI(\"urn:epc:id:adi:W81X9C.3KL9-012345678901234567890184%2FX1.%232WMA1520123456789012345678901\")\n",
    "print(adi.tag_uri(ADIFilterValues.GROUND_SUPPORT_EQUIPMENT))\n",
    "print(adi.hex())\n",
    "print(binary_to_epc_tag_uri(adi.binary()))\n",
    "print(binary_to_epc_pure_identity(adi.binary()))"
   ]
  },
  {
   "cell_type": "code",
   "execution_count": null,
   "metadata": {},
   "outputs": [],
   "source": [
    "bic = BIC(\"urn:epc:id:bic:CSQU3054383\")\n",
    "print(bic.owner_code)\n",
    "print(bic.equipment_category_identifier)\n",
    "print(bic.serial)\n",
    "print(bic.check_digit)"
   ]
  },
  {
   "cell_type": "code",
   "execution_count": null,
   "metadata": {},
   "outputs": [],
   "source": [
    "imovn = IMOVN(\"urn:epc:id:imovn:9176187\")\n",
    "print(imovn.vessel_number)"
   ]
  }
 ],
 "metadata": {
  "interpreter": {
   "hash": "575b31890af11e1ad6918521868705fdda6c5923aede168cd320f3bea14bd1a8"
  },
  "kernelspec": {
   "display_name": "Python 3.9.5 64-bit ('venv': venv)",
   "language": "python",
   "name": "python3"
  },
  "language_info": {
   "codemirror_mode": {
    "name": "ipython",
    "version": 3
   },
   "file_extension": ".py",
   "mimetype": "text/x-python",
   "name": "python",
   "nbconvert_exporter": "python",
   "pygments_lexer": "ipython3",
   "version": "3.9.5"
  },
  "orig_nbformat": 4
 },
 "nbformat": 4,
 "nbformat_minor": 2
}
